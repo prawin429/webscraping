{
 "cells": [
  {
   "cell_type": "code",
   "execution_count": 1,
   "id": "3ad6723d",
   "metadata": {},
   "outputs": [
    {
     "ename": "ModuleNotFoundError",
     "evalue": "No module named 'autoscraper'",
     "output_type": "error",
     "traceback": [
      "\u001b[1;31m---------------------------------------------------------------------------\u001b[0m",
      "\u001b[1;31mModuleNotFoundError\u001b[0m                       Traceback (most recent call last)",
      "\u001b[1;32m<ipython-input-1-b88826116b78>\u001b[0m in \u001b[0;36m<module>\u001b[1;34m\u001b[0m\n\u001b[1;32m----> 1\u001b[1;33m \u001b[1;32mfrom\u001b[0m \u001b[0mautoscraper\u001b[0m \u001b[1;32mimport\u001b[0m \u001b[0mAutoscraper\u001b[0m\u001b[1;33m\u001b[0m\u001b[1;33m\u001b[0m\u001b[0m\n\u001b[0m",
      "\u001b[1;31mModuleNotFoundError\u001b[0m: No module named 'autoscraper'"
     ]
    }
   ],
   "source": [
    "from autoscraper import Autoscraper"
   ]
  },
  {
   "cell_type": "code",
   "execution_count": 3,
   "id": "c57220aa",
   "metadata": {},
   "outputs": [
    {
     "name": "stdout",
     "output_type": "stream",
     "text": [
      "Requirement already satisfied: autoscraper in c:\\users\\prave\\anaconda3\\lib\\site-packages (1.1.12)Note: you may need to restart the kernel to use updated packages.\n",
      "Requirement already satisfied: requests in c:\\users\\prave\\anaconda3\\lib\\site-packages (from autoscraper) (2.25.1)\n",
      "Requirement already satisfied: bs4 in c:\\users\\prave\\anaconda3\\lib\\site-packages (from autoscraper) (0.0.1)\n",
      "Requirement already satisfied: lxml in c:\\users\\prave\\anaconda3\\lib\\site-packages (from autoscraper) (4.6.3)\n",
      "Requirement already satisfied: beautifulsoup4 in c:\\users\\prave\\anaconda3\\lib\\site-packages (from bs4->autoscraper) (4.9.3)\n",
      "Requirement already satisfied: soupsieve>1.2 in c:\\users\\prave\\anaconda3\\lib\\site-packages (from beautifulsoup4->bs4->autoscraper) (2.2.1)\n",
      "Requirement already satisfied: urllib3<1.27,>=1.21.1 in c:\\users\\prave\\anaconda3\\lib\\site-packages (from requests->autoscraper) (1.26.4)\n",
      "Requirement already satisfied: certifi>=2017.4.17 in c:\\users\\prave\\anaconda3\\lib\\site-packages (from requests->autoscraper) (2020.12.5)\n",
      "Requirement already satisfied: idna<3,>=2.5 in c:\\users\\prave\\anaconda3\\lib\\site-packages (from requests->autoscraper) (2.10)\n",
      "Requirement already satisfied: chardet<5,>=3.0.2 in c:\\users\\prave\\anaconda3\\lib\\site-packages (from requests->autoscraper) (4.0.0)\n",
      "\n"
     ]
    }
   ],
   "source": [
    "pip install autoscraper"
   ]
  },
  {
   "cell_type": "code",
   "execution_count": 6,
   "id": "fed0f8f9",
   "metadata": {},
   "outputs": [],
   "source": [
    "from autoscraper import AutoScraper"
   ]
  },
  {
   "cell_type": "code",
   "execution_count": 13,
   "id": "125d87a4",
   "metadata": {},
   "outputs": [],
   "source": [
    "amazon_url=\"https://www.amazon.com/s?k=olive+oil\"\n",
    "\n",
    "wanted_list=[\"Partanna Extra Virgin Olive Oil, 101-Ounce Tin\",\"4,046\",\"$45.98 ($0.46/Fl Oz)\"]"
   ]
  },
  {
   "cell_type": "code",
   "execution_count": 14,
   "id": "a344abad",
   "metadata": {},
   "outputs": [
    {
     "name": "stdout",
     "output_type": "stream",
     "text": [
      "['Pompeian Robust Extra Virgin Olive Oil, First Cold Pressed, Full-Bodied Flavor, Perfect for Salad Dressings & Marinades, 68 FL. OZ.', 'Pompeian Classic Olive Oil, Mild Flavor, Perfect for Roasting and Sauteing, Naturally Gluten Free, Non-Allergenic, Non-GMO, 32 FL. OZ., Single Bottle', 'Partanna Extra Virgin Olive Oil, 101-Ounce Tin', 'La Tourangelle, Organic Extra Virgin Olive Oil, Cold-Pressed High Antioxidant Picual Olives From Spain, 25.4 fl oz', 'Colavita Olive Oil Tin, 101.4 Fluid Ounce', 'Filippo Berio Extra Virgin Olive Oil, 101.4 Ounce', 'Bragg Organic Extra Virgin Olive Oil – Made with Greek Koroneiki Olives – Cold Pressed EVOO for Marinades & Vinaigrettes – USDA Certified, Non-GMO, Kosher, 1 Gallon', 'Amazon Brand - Happy Belly Extra Virgin Olive Oil, Mediterranean Blend, 51 Fl Oz', 'Filippo Berio Olive Oil, 101.4 Ounce Tin', 'Pompeian USDA Organic Extra Virgin Olive Oil, First Cold Pressed, Full-Bodied Flavor, Perfect for Vinaigrettes & Marinades, 32 FL. OZ.', 'Atlas 750 mL Organic Cold Press Extra Virgin Olive Oil with Polyphenol Rich from Morocco | Newly Harvested Unprocessed from One Single Family Farm | Moroccan EVOO Trusted by Top Rated Michelin Star Chefs', 'AmazonFresh Mediterranean Blend Extra Virgin Olive Oil, 68 Fl Oz (2L)', 'Frankies 457 Spuntino Extra Virgin Olive Oil - 1 liter', 'Filippo Berio Olive Oil, 169 Fluid Ounce', 'Frantoia Barbera, Italian Extra Virgin Olive Oil, 3 Liter- Pack of 1', \"Mr. Papou's | Extra Virgin Olive Oil | First Cold Pressed | Family Owned | Harvested in Greece | 3 Liter - 101.4 fl oz\", 'Ellora Farms, Global Gold Award Winner, Single Origin & Estate Traceable Extra Virgin Olive Oil, First-Cold Pressed, Certified PDO, Harvested in Crete, Greece, Kosher OU, 1 Lt (33.8 oz.) Tins, Pack of 2', 'The Governor Premium Extra Virgin Olive Oil - Unfiltered, Cold-Pressed, Single Origin Lianolia - Peppery, Robust, Floral, Fruity Notes - Rich in Natural Polyphenols, Oleocanthal, Antioxidants, 500ml', 'LA ESPAÑOLA 100% Extra Virgin Olive Oil, 68 fl oz', 'Barbera Frantoia Extra Virgin Olive Oil, 33.8-Ounce Bottle (Pack of 2)', 'Lucini Oil Olive Xvrgn Prem Sele 500ml(1 pt 1fl OZ) pack 2', 'Kirkland Signature Organic Extra Virgin Olive Oil 2L (2QT 3.6 fl. oz), Set of 2', 'Colavita Extra Virgin Olive Oil, First Cold Pressed, (2 Liters) 68 Fl Oz (Pack of 1)', 'California Olive Ranch Everyday Extra Virgin Olive Oil - 16.9 oz each (Pack of 2)', 'Filippo Berio Extra Light Olive Oil, 101.4 Fluid Ounce', 'ZOE, Extra Virgin Olive Oil Tin, BPA Free Lining, 1L Pack of 2', 'Kevala Organic Extra Virgin Olive Oil, 1 Gallon, 128 Fl Oz', 'Colavita Premium Italian Extra Virgin Olive Oil, 68 fl. oz. (2 Liters) Jug', 'Mythology Greek Olive Oil From Greece, Extra Virgin Olive Oil Cold Pressed, Certified PDO Kolymvari Chania Crete - 3 Liter', 'Colavita Extra Virgin Olive Oil Special, 25.5 Fl Oz (Pack of 2)', 'Pompeian Smooth Extra Virgin Olive Oil, First Cold Pressed, Mild and Delicate Flavor, Perfect for Sauteing and Stir-Frying, Naturally Gluten Free, Non-Allergenic, Non-GMO, 16 FL. OZ., Single Bottle', 'California Olive Ranch, Everyday Extra Virgin Olive Oil, 25.4 fl oz', 'Colavita Extra Virgin Olive Oil, 34 Fl Oz (Pack of 1)', 'Partanna Extra Virgin Olive Oil 1 Liter (34-ounce) Can (Pack of 2)', 'Baja Precious - Extra Virgin Olive Oil, 1 Gallon', 'Laudemio Extra Virgin Olive Oil, 16.9 Fl Oz (Pack of 2)', 'Iliada Extra Virgin Olive Oil Tin, 3 Liter', 'Barbera Frantoia Extra Virgin Olive Oil 1 liter from Italy (pack of 2)', 'Terra Delyssa First Cold Pressed Organic Extra Virgin Olive Oil, Single Sourced, 34 Oz, Dark Glass Bottle - 1 Pack, Non-GMO, Naturally Rich in Antioxidants and Polyphenols', 'Alziari Extra Long Blue Bottle', 'Corto TRULY® | 100% Extra Virgin Olive Oil | Floral Notes | Cold Extracted in State-of-the-Art Mill | Straight from Official Corto Olive Groves & Oil Producer (Truly 3L Box)', 'Oilala, 2020/21 harvest! Extra Virgin Olive Oil, Coratina, Gold Medal NYIOOC 2020! Robust, Puglia Italy, Italian family farm, Single Source, High Polyphenol, 5 Liters (169 FL OZ)', 'Pompeian Extra Light Tasting Olive Oil, Light and Subtle Flavor, Perfect for Frying and Baking, Naturally Gluten Free, Non-Allergenic, Non-GMO, 16 FL. OZ., Single Bottle', 'ZOE Extra Virgin Olive Oil Tin, 3 Liter, 101.4 Ounce', 'Lucini Organic Premium Select Extra Virgin Olive Oil - Italian EVOO - Hand Picked Olives from Italy - Non GMO Verified, Whole30 Approved, Kosher, 500 mL', 'Paesanol ORGANIC UNFILTERED Extra Virgin Olive Oil 33.8 Fl Oz Glass', 'Mina Extra Virgin Olive Oil, Single Origin, Cold Extracted, Moroccan Olive Oil High in Polyphenols, November 2020 Harvest – 68 Fl Oz (2 Liters)', 'Ellora Farms, Certified PDO Extra Virgin Olive Oil, Single Estate, Single Origin, Single Variety, Cold Press & Traceable Olive Oil, Born in Crete, Greece, Kosher, 1 Lt Tin (33.8 oz.)', 'Pompeian Robust Extra Virgin Olive Oil, First Cold Pressed, Full-Bodied Flavor, Perfect for Salad Dressings & Marinades, 6...', 'Pompeian Classic Olive Oil, Mild Flavor, Perfect for Roasting and Sauteing, Naturally Gluten Free, Non-Allergenic, Non-GM...', 'Bragg Organic Extra Virgin Olive Oil – Made with Greek Koroneiki Olives – Cold Pressed EVOO for Marinades & Vinaigrettes –...', 'Pompeian USDA Organic Extra Virgin Olive Oil, First Cold Pressed, Full-Bodied Flavor, Perfect for Vinaigrettes & Marinade...', 'Atlas 750 mL Organic Cold Press Extra Virgin Olive Oil with Polyphenol Rich from Morocco | Newly Harvested Unprocessed fro...', 'Ellora Farms, Global Gold Award Winner, Single Origin & Estate Traceable Extra Virgin Olive Oil, First-Cold Pressed, Certi...', 'The Governor Premium Extra Virgin Olive Oil - Unfiltered, Cold-Pressed, Single Origin Lianolia - Peppery, Robust, Floral, ...', 'Pompeian Smooth Extra Virgin Olive Oil, First Cold Pressed, Mild and Delicate Flavor, Perfect for Sauteing and Stir-Fryin...', 'Terra Delyssa First Cold Pressed Organic Extra Virgin Olive Oil, Single Sourced, 34 Oz, Dark Glass Bottle - 1 Pack, Non-GM...', 'Corto TRULY® | 100% Extra Virgin Olive Oil | Floral Notes | Cold Extracted in State-of-the-Art Mill | Straight from Offici...', 'Oilala, 2020/21 harvest! Extra Virgin Olive Oil, Coratina, Gold Medal NYIOOC 2020! Robust, Puglia Italy, Italian family fa...', 'Pompeian Extra Light Tasting Olive Oil, Light and Subtle Flavor, Perfect for Frying and Baking, Naturally Gluten Free, No...', 'Lucini Organic Premium Select Extra Virgin Olive Oil - Italian EVOO - Hand Picked Olives from Italy - Non GMO Verified, Wh...', 'Mina Extra Virgin Olive Oil, Single Origin, Cold Extracted, Moroccan Olive Oil High in Polyphenols, November 2020 Harvest...', 'Ellora Farms, Certified PDO Extra Virgin Olive Oil, Single Estate, Single Origin, Single Variety, Cold Press & Traceable O...', '18,334', '2,461', '4,046', '3,842', '199', '3,181', '2,373', '5,452', '1,298', '14,583', '1,582', '9,141', '659', '206', '161', '745', '1,830', '116', '1,009', '354', '300', 'Only 1 left in stock - order soon.', '96', '4,955', '1,178', 'Only 10 left in stock - order soon.', '369', 'Only 14 left in stock - order soon.', '2,271', '122', 'Only 2 left in stock - order soon.', '1,817', '403', '255', '17,584', '1,254', '1,051', '251', '509', '68', '938', '173', '196', '159', '331', '191', '2,822', '77', '323', '691', '439', '1,227']\n"
     ]
    }
   ],
   "source": [
    "scraper=AutoScraper()\n",
    "result=scraper.build(amazon_url,wanted_list)\n",
    "\n",
    "print(result)"
   ]
  },
  {
   "cell_type": "code",
   "execution_count": 13,
   "id": "87ef056b",
   "metadata": {},
   "outputs": [
    {
     "name": "stdout",
     "output_type": "stream",
     "text": [
      "{'Xiaomi Redmi Note 10 Pro | 128GB 6GB RAM': '$346.00', 'Xiaomi Redmi Note 10 Pro Dual 128GB 6GB RAM Factory Unlocked (GSM Only | No CDMA - not Compatible with Verizon/Sprint) International Version - Gradient Bronze': '$345.00', 'Xiaomi Redmi Note 10 | 128GB 4GB RAM | GSM LTE Factory Unlocked Smartphone | International Model (Onyx Gray)': '$344.50', 'Redmi Note 10s | 128GB 6GB RAM | Factory Unlocked (GSM ONLY | Not Compatible with Verizon/Sprint/Boost) | International Model (Onyx Gray)': '$282.00', 'Xiaomi Redmi Note 10 | 128GB 4GB RAM | GSM LTE Factory Unlocked Smartphone | International Model (Pebble White)': '$274.00', 'Xiaomi Redmi Note 9 Pro 128GB + 6GB RAM, 6.67\" FHD+ DotDisplay, 64MP AI Quad Camera, Qualcomm Snapdragon 720G LTE Factory Unlocked Smartphone - International Version (Tropical Green)': '$319.50', 'Xiaomi Mi 11 Lite (128GB, 6GB) 6.55” 90HZ AMOLED, 64MP Triple Camera, Snapdragon 732G, Dual SIM GSM Unlocked (US + Global) 4G LTE International Version (Fast Car Charger Bundle, Bubblegum Blue)': '$315.00', 'OnePlus Nord N10 5G, Euro 5G /Global 4G LTE, International Version (No US Warranty), Midnight Ice 128GB, 6GB - GSM Unlocked (T-Mobile, AT&T, Metro) - 64GB SD Bundle': '$342.50', 'Samsung Galaxy S21 Ultra 5G Factory Unlocked Android Cell Phone 256GB US Version Smartphone Pro-Grade Camera 8K Video 108MP High Res, Phantom Black': '$268.48', 'Xiaomi Note 10S 4G LTE Volte Global Unlocked GSM 128GB + 6GB (Onyx Grey)': '$264.90', 'Xiaomi Redmi Note 10 Lake Green 4Gb Ram 128Gb ROM': '$299.50', 'Xiaomi Mi 10T - Smartphone 6 GB + 128 GB, Dual Sim, Alexa Hands-Free, Nero (Cosmic Black)': '$385.00', 'Xiaomi Poco X3 Pro 4G LTE GSM Pro Global Unlocked Gamers (8GB + 256GB) 6.67 inch Dual SIM Quad Camera 48MP Quad Camera (NOT Verizon/Boost) (Metal Bronze)': '$319.99', 'Xiaomi Mi 10T - Smartphone, 6 GB + 128 GB, Dual Sim, Alexa Hands-Free, Grigio (Lunar Silver)': '$388.90', 'Xiaomi Mi 11i | 128GB 8GB RAM | Factory Unlocked (GSM ONLY | Not Compatible with Verizon/Sprint/Boost) | International Model (Cosmic Black)': '$595.00'}\n"
     ]
    }
   ],
   "source": [
    "import pandas as pd\n",
    "from autoscraper import AutoScraper\n",
    "target_url=\"https://www.amazon.com/s?k=redmi+note+10+pro&crid=17HFI1562DGFL&sprefix=red%2Caps%2C725&ref=nb_sb_ss_ts-doa-p_1_3\"\n",
    "wanted_list=[\"Xiaomi Redmi Note 10 Pro | 128GB 6GB RAM\"]\n",
    "wanted_list1=[\"$346.00\"]\n",
    "scraper=AutoScraper()\n",
    "brand=scraper.build(target_url,wanted_list)\n",
    "price=scraper.build(target_url,wanted_list1)\n",
    "zipped_list = zip(brand,price)\n",
    "result_dict = dict(zipped_list)\n",
    "print(result_dict)"
   ]
  },
  {
   "cell_type": "code",
   "execution_count": 23,
   "id": "1f08f9c7",
   "metadata": {},
   "outputs": [],
   "source": [
    "head = ['Brand','Price']"
   ]
  },
  {
   "cell_type": "code",
   "execution_count": 38,
   "id": "7ad3d5ab",
   "metadata": {},
   "outputs": [
    {
     "name": "stdout",
     "output_type": "stream",
     "text": [
      "{'Xiaomi Redmi Note 10 Pro | 128GB 6GB RAM': '$346.00', 'Xiaomi Redmi Note 10 Pro Dual 128GB 6GB RAM Factory Unlocked (GSM Only | No CDMA - not Compatible with Verizon/Sprint) International Version - Gradient Bronze': '$345.00', 'Xiaomi Redmi Note 10 | 128GB 4GB RAM | GSM LTE Factory Unlocked Smartphone | International Model (Onyx Gray)': '$344.50', 'Redmi Note 10s | 128GB 6GB RAM | Factory Unlocked (GSM ONLY | Not Compatible with Verizon/Sprint/Boost) | International Model (Onyx Gray)': '$282.00', 'Xiaomi Redmi Note 10 | 128GB 4GB RAM | GSM LTE Factory Unlocked Smartphone | International Model (Pebble White)': '$274.00', 'Xiaomi Redmi Note 9 Pro 128GB + 6GB RAM, 6.67\" FHD+ DotDisplay, 64MP AI Quad Camera, Qualcomm Snapdragon 720G LTE Factory Unlocked Smartphone - International Version (Tropical Green)': '$319.50', 'Xiaomi Mi 11 Lite (128GB, 6GB) 6.55” 90HZ AMOLED, 64MP Triple Camera, Snapdragon 732G, Dual SIM GSM Unlocked (US + Global) 4G LTE International Version (Fast Car Charger Bundle, Bubblegum Blue)': '$315.00', 'OnePlus Nord N10 5G, Euro 5G /Global 4G LTE, International Version (No US Warranty), Midnight Ice 128GB, 6GB - GSM Unlocked (T-Mobile, AT&T, Metro) - 64GB SD Bundle': '$342.50', 'Samsung Galaxy S21 Ultra 5G Factory Unlocked Android Cell Phone 256GB US Version Smartphone Pro-Grade Camera 8K Video 108MP High Res, Phantom Black': '$268.48', 'Xiaomi Note 10S 4G LTE Volte Global Unlocked GSM 128GB + 6GB (Onyx Grey)': '$264.90', 'Xiaomi Redmi Note 10 Lake Green 4Gb Ram 128Gb ROM': '$299.50', 'Xiaomi Mi 10T - Smartphone 6 GB + 128 GB, Dual Sim, Alexa Hands-Free, Nero (Cosmic Black)': '$385.00', 'Xiaomi Poco X3 Pro 4G LTE GSM Pro Global Unlocked Gamers (8GB + 256GB) 6.67 inch Dual SIM Quad Camera 48MP Quad Camera (NOT Verizon/Boost) (Metal Bronze)': '$319.99', 'Xiaomi Mi 10T - Smartphone, 6 GB + 128 GB, Dual Sim, Alexa Hands-Free, Grigio (Lunar Silver)': '$388.90', 'Xiaomi Mi 11i | 128GB 8GB RAM | Factory Unlocked (GSM ONLY | Not Compatible with Verizon/Sprint/Boost) | International Model (Cosmic Black)': '$595.00'}\n"
     ]
    }
   ],
   "source": [
    "def lists_to_dict(list1,list2):\n",
    "    zipped_list= zip(list1,list2)\n",
    "    rs_dict = dict(zipped_list)\n",
    "    return rs_dict\n",
    "rs_fun = lists_to_dict(brand,price)\n",
    "print(rs_fun)"
   ]
  },
  {
   "cell_type": "code",
   "execution_count": 53,
   "id": "d394c8f1",
   "metadata": {},
   "outputs": [
    {
     "ename": "TypeError",
     "evalue": "lists_to_dict() missing 1 required positional argument: 'list2'",
     "output_type": "error",
     "traceback": [
      "\u001b[1;31m---------------------------------------------------------------------------\u001b[0m",
      "\u001b[1;31mTypeError\u001b[0m                                 Traceback (most recent call last)",
      "\u001b[1;32m<ipython-input-53-41b12f75a662>\u001b[0m in \u001b[0;36m<module>\u001b[1;34m\u001b[0m\n\u001b[1;32m----> 1\u001b[1;33m \u001b[0mlist_of_dicts\u001b[0m \u001b[1;33m=\u001b[0m \u001b[1;33m[\u001b[0m\u001b[0mlists_to_dict\u001b[0m\u001b[1;33m(\u001b[0m\u001b[0mrs_fun\u001b[0m\u001b[1;33m)\u001b[0m\u001b[1;33m]\u001b[0m\u001b[1;33m\u001b[0m\u001b[1;33m\u001b[0m\u001b[0m\n\u001b[0m",
      "\u001b[1;31mTypeError\u001b[0m: lists_to_dict() missing 1 required positional argument: 'list2'"
     ]
    }
   ],
   "source": [
    "list_of_dicts = [lists_to_dict(rs_fun)]"
   ]
  },
  {
   "cell_type": "code",
   "execution_count": 51,
   "id": "ccbea7f6",
   "metadata": {},
   "outputs": [
    {
     "data": {
      "text/plain": [
       "[{'Brand': 'Xiaomi Redmi Note 10 Pro | 128GB 6GB RAM',\n",
       "  'Price': 'Xiaomi Redmi Note 10 Pro Dual 128GB 6GB RAM Factory Unlocked (GSM Only | No CDMA - not Compatible with Verizon/Sprint) International Version - Gradient Bronze'}]"
      ]
     },
     "execution_count": 51,
     "metadata": {},
     "output_type": "execute_result"
    }
   ],
   "source": [
    "list_of_dicts"
   ]
  },
  {
   "cell_type": "code",
   "execution_count": 49,
   "id": "6bd3dd9a",
   "metadata": {},
   "outputs": [
    {
     "name": "stdout",
     "output_type": "stream",
     "text": [
      "   Brand Price\n",
      "0      X     i\n",
      "1      X     i\n",
      "2      X     i\n",
      "3      R     e\n",
      "4      X     i\n",
      "5      X     i\n",
      "6      X     i\n",
      "7      O     n\n",
      "8      S     a\n",
      "9      X     i\n",
      "10     X     i\n",
      "11     X     i\n",
      "12     X     i\n",
      "13     X     i\n",
      "14     X     i\n"
     ]
    }
   ],
   "source": [
    "df = pd.DataFrame(list_of_dicts)\n",
    "print(df)"
   ]
  },
  {
   "cell_type": "code",
   "execution_count": null,
   "id": "be9591fa",
   "metadata": {},
   "outputs": [],
   "source": []
  }
 ],
 "metadata": {
  "kernelspec": {
   "display_name": "Python 3",
   "language": "python",
   "name": "python3"
  },
  "language_info": {
   "codemirror_mode": {
    "name": "ipython",
    "version": 3
   },
   "file_extension": ".py",
   "mimetype": "text/x-python",
   "name": "python",
   "nbconvert_exporter": "python",
   "pygments_lexer": "ipython3",
   "version": "3.8.8"
  }
 },
 "nbformat": 4,
 "nbformat_minor": 5
}
