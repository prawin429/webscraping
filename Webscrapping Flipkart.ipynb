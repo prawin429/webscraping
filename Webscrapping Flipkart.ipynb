{
 "cells": [
  {
   "cell_type": "code",
   "execution_count": 1,
   "id": "207dd975",
   "metadata": {},
   "outputs": [],
   "source": [
    "import requests"
   ]
  },
  {
   "cell_type": "code",
   "execution_count": 2,
   "id": "7c8bbf0d",
   "metadata": {},
   "outputs": [],
   "source": [
    "from bs4 import BeautifulSoup"
   ]
  },
  {
   "cell_type": "code",
   "execution_count": 3,
   "id": "a70bf837",
   "metadata": {},
   "outputs": [],
   "source": [
    "\n",
    "for i in range(1,2):\n",
    "    url = 'https://www.flipkart.com/search?q=mobile+under+10000&as=on&as-show=on&otracker=AS_Query_OrganicAutoSuggest_4_3_na_na_na&otracker1=AS_Query_OrganicAutoSuggest_4_3_na_na_na&as-pos=4&as-type=RECENT&suggestionId=mobile+under+10000&requestId=4ab2fb4a-33a0-4a4e-beee-d7f2265c7dfd&as-searchtext=mob&page='+str(i)\n",
    "    res = requests.get(url).content\n",
    "    soup = BeautifulSoup(res,'html.parser')\n",
    "    phone = soup.findAll(attrs={'class' : '_3pLy-c row'})\n",
    "    for store in phone:\n",
    "        product = store.find('div',class_='_4rR01T').text\n",
    "        price = store.find('div',class_='_30jeq3 _1_WHN1').text\n",
    "        prices=[]\n",
    "        products=[]\n",
    "        prices.append(price)\n",
    "        products.append(product)"
   ]
  },
  {
   "cell_type": "code",
   "execution_count": 17,
   "id": "24dccbf3",
   "metadata": {},
   "outputs": [
    {
     "ename": "AttributeError",
     "evalue": "ResultSet object has no attribute 'text'. You're probably treating a list of elements like a single element. Did you call find_all() when you meant to call find()?",
     "output_type": "error",
     "traceback": [
      "\u001b[1;31m---------------------------------------------------------------------------\u001b[0m",
      "\u001b[1;31mAttributeError\u001b[0m                            Traceback (most recent call last)",
      "\u001b[1;32m<ipython-input-17-4996b198ea64>\u001b[0m in \u001b[0;36m<module>\u001b[1;34m\u001b[0m\n\u001b[0;32m      5\u001b[0m     \u001b[0mres\u001b[0m \u001b[1;33m=\u001b[0m \u001b[0mrequests\u001b[0m\u001b[1;33m.\u001b[0m\u001b[0mget\u001b[0m\u001b[1;33m(\u001b[0m\u001b[0murl\u001b[0m\u001b[1;33m)\u001b[0m\u001b[1;33m.\u001b[0m\u001b[0mcontent\u001b[0m\u001b[1;33m\u001b[0m\u001b[1;33m\u001b[0m\u001b[0m\n\u001b[0;32m      6\u001b[0m     \u001b[0msoup\u001b[0m \u001b[1;33m=\u001b[0m \u001b[0mBeautifulSoup\u001b[0m\u001b[1;33m(\u001b[0m\u001b[0mres\u001b[0m\u001b[1;33m,\u001b[0m\u001b[1;34m'html.parser'\u001b[0m\u001b[1;33m)\u001b[0m\u001b[1;33m\u001b[0m\u001b[1;33m\u001b[0m\u001b[0m\n\u001b[1;32m----> 7\u001b[1;33m     \u001b[0mproduct\u001b[0m \u001b[1;33m=\u001b[0m \u001b[0mstore\u001b[0m\u001b[1;33m.\u001b[0m\u001b[0mfindAll\u001b[0m\u001b[1;33m(\u001b[0m\u001b[1;34m'div'\u001b[0m\u001b[1;33m,\u001b[0m\u001b[0mclass_\u001b[0m\u001b[1;33m=\u001b[0m\u001b[1;34m'_4rR01T'\u001b[0m\u001b[1;33m)\u001b[0m\u001b[1;33m.\u001b[0m\u001b[0mtext\u001b[0m\u001b[1;33m\u001b[0m\u001b[1;33m\u001b[0m\u001b[0m\n\u001b[0m\u001b[0;32m      8\u001b[0m     \u001b[0mprice\u001b[0m \u001b[1;33m=\u001b[0m \u001b[0mstore\u001b[0m\u001b[1;33m.\u001b[0m\u001b[0mfindAll\u001b[0m\u001b[1;33m(\u001b[0m\u001b[1;34m'div'\u001b[0m\u001b[1;33m,\u001b[0m\u001b[0mclass_\u001b[0m\u001b[1;33m=\u001b[0m\u001b[1;34m'_30jeq3 _1_WHN1'\u001b[0m\u001b[1;33m)\u001b[0m\u001b[1;33m.\u001b[0m\u001b[0mtext\u001b[0m\u001b[1;33m\u001b[0m\u001b[1;33m\u001b[0m\u001b[0m\n\u001b[0;32m      9\u001b[0m     \u001b[0mprices\u001b[0m\u001b[1;33m.\u001b[0m\u001b[0mappend\u001b[0m\u001b[1;33m(\u001b[0m\u001b[0mprice\u001b[0m\u001b[1;33m)\u001b[0m\u001b[1;33m\u001b[0m\u001b[1;33m\u001b[0m\u001b[0m\n",
      "\u001b[1;32m~\\anaconda3\\lib\\site-packages\\bs4\\element.py\u001b[0m in \u001b[0;36m__getattr__\u001b[1;34m(self, key)\u001b[0m\n\u001b[0;32m   2171\u001b[0m     \u001b[1;32mdef\u001b[0m \u001b[0m__getattr__\u001b[0m\u001b[1;33m(\u001b[0m\u001b[0mself\u001b[0m\u001b[1;33m,\u001b[0m \u001b[0mkey\u001b[0m\u001b[1;33m)\u001b[0m\u001b[1;33m:\u001b[0m\u001b[1;33m\u001b[0m\u001b[1;33m\u001b[0m\u001b[0m\n\u001b[0;32m   2172\u001b[0m         \u001b[1;34m\"\"\"Raise a helpful exception to explain a common code fix.\"\"\"\u001b[0m\u001b[1;33m\u001b[0m\u001b[1;33m\u001b[0m\u001b[0m\n\u001b[1;32m-> 2173\u001b[1;33m         raise AttributeError(\n\u001b[0m\u001b[0;32m   2174\u001b[0m             \u001b[1;34m\"ResultSet object has no attribute '%s'. You're probably treating a list of elements like a single element. Did you call find_all() when you meant to call find()?\"\u001b[0m \u001b[1;33m%\u001b[0m \u001b[0mkey\u001b[0m\u001b[1;33m\u001b[0m\u001b[1;33m\u001b[0m\u001b[0m\n\u001b[0;32m   2175\u001b[0m         )\n",
      "\u001b[1;31mAttributeError\u001b[0m: ResultSet object has no attribute 'text'. You're probably treating a list of elements like a single element. Did you call find_all() when you meant to call find()?"
     ]
    }
   ],
   "source": [
    "prices=[]\n",
    "products=[]\n",
    "for i in range(1,2):\n",
    "    url = 'https://www.flipkart.com/search?q=mobile+under+10000&as=on&as-show=on&otracker=AS_Query_OrganicAutoSuggest_4_3_na_na_na&otracker1=AS_Query_OrganicAutoSuggest_4_3_na_na_na&as-pos=4&as-type=RECENT&suggestionId=mobile+under+10000&requestId=4ab2fb4a-33a0-4a4e-beee-d7f2265c7dfd&as-searchtext=mob&page='+str(i)\n",
    "    res = requests.get(url).content\n",
    "    soup = BeautifulSoup(res,'html.parser')\n",
    "    product = store.findAll('div',class_='_4rR01T').text\n",
    "    price = store.findAll('div',class_='_30jeq3 _1_WHN1').text\n",
    "    prices.append(price)\n",
    "    products.append(product)"
   ]
  },
  {
   "cell_type": "code",
   "execution_count": 16,
   "id": "dbfa9ada",
   "metadata": {},
   "outputs": [
    {
     "data": {
      "text/plain": [
       "['₹9,805']"
      ]
     },
     "execution_count": 16,
     "metadata": {},
     "output_type": "execute_result"
    }
   ],
   "source": [
    "prices"
   ]
  },
  {
   "cell_type": "code",
   "execution_count": 14,
   "id": "a3f27ef9",
   "metadata": {},
   "outputs": [
    {
     "data": {
      "text/html": [
       "<div>\n",
       "<style scoped>\n",
       "    .dataframe tbody tr th:only-of-type {\n",
       "        vertical-align: middle;\n",
       "    }\n",
       "\n",
       "    .dataframe tbody tr th {\n",
       "        vertical-align: top;\n",
       "    }\n",
       "\n",
       "    .dataframe thead th {\n",
       "        text-align: right;\n",
       "    }\n",
       "</style>\n",
       "<table border=\"1\" class=\"dataframe\">\n",
       "  <thead>\n",
       "    <tr style=\"text-align: right;\">\n",
       "      <th></th>\n",
       "      <th>Name of the movie</th>\n",
       "      <th>Year of relesing</th>\n",
       "    </tr>\n",
       "  </thead>\n",
       "  <tbody>\n",
       "    <tr>\n",
       "      <th>0</th>\n",
       "      <td>₹9,805</td>\n",
       "      <td>Redmi 9 (Sporty Orange, 64 GB)</td>\n",
       "    </tr>\n",
       "  </tbody>\n",
       "</table>\n",
       "</div>"
      ],
      "text/plain": [
       "  Name of the movie                Year of relesing\n",
       "0            ₹9,805  Redmi 9 (Sporty Orange, 64 GB)"
      ]
     },
     "execution_count": 14,
     "metadata": {},
     "output_type": "execute_result"
    }
   ],
   "source": [
    "movie_Df"
   ]
  },
  {
   "cell_type": "code",
   "execution_count": 7,
   "id": "1e7bd564",
   "metadata": {},
   "outputs": [
    {
     "data": {
      "text/plain": [
       "[['Redmi 9 (Sporty Orange, 64 GB)', '₹9,805']]"
      ]
     },
     "execution_count": 7,
     "metadata": {},
     "output_type": "execute_result"
    }
   ],
   "source": [
    "data"
   ]
  },
  {
   "cell_type": "code",
   "execution_count": 8,
   "id": "c7d34c49",
   "metadata": {},
   "outputs": [
    {
     "data": {
      "text/html": [
       "<div>\n",
       "<style scoped>\n",
       "    .dataframe tbody tr th:only-of-type {\n",
       "        vertical-align: middle;\n",
       "    }\n",
       "\n",
       "    .dataframe tbody tr th {\n",
       "        vertical-align: top;\n",
       "    }\n",
       "\n",
       "    .dataframe thead th {\n",
       "        text-align: right;\n",
       "    }\n",
       "</style>\n",
       "<table border=\"1\" class=\"dataframe\">\n",
       "  <thead>\n",
       "    <tr style=\"text-align: right;\">\n",
       "      <th></th>\n",
       "      <th>brand</th>\n",
       "      <th>cost</th>\n",
       "    </tr>\n",
       "  </thead>\n",
       "  <tbody>\n",
       "    <tr>\n",
       "      <th>0</th>\n",
       "      <td>Redmi 9 (Sporty Orange, 64 GB)</td>\n",
       "      <td>₹9,805</td>\n",
       "    </tr>\n",
       "  </tbody>\n",
       "</table>\n",
       "</div>"
      ],
      "text/plain": [
       "                            brand    cost\n",
       "0  Redmi 9 (Sporty Orange, 64 GB)  ₹9,805"
      ]
     },
     "execution_count": 8,
     "metadata": {},
     "output_type": "execute_result"
    }
   ],
   "source": [
    "import pandas as pd\n",
    "df = pd.DataFrame(data,columns = ['brand','cost'])\n",
    "df.head()"
   ]
  },
  {
   "cell_type": "code",
   "execution_count": 9,
   "id": "e2ecd1c6",
   "metadata": {},
   "outputs": [],
   "source": [
    "df.to_csv('praveen.csv')"
   ]
  },
  {
   "cell_type": "code",
   "execution_count": 10,
   "id": "f0a2230d",
   "metadata": {},
   "outputs": [
    {
     "name": "stdout",
     "output_type": "stream",
     "text": [
      "POCO C31 (Royal Blue, 64 GB)\n",
      "POCO C31 (Shadow Gray, 64 GB)\n",
      "realme C21 (Cross Blue, 64 GB)\n",
      "realme C21 (Cross Black, 64 GB)\n",
      "realme C21Y (Cross Blue, 64 GB)\n",
      "realme C21Y (Cross Black, 64 GB)\n",
      "POCO M2 Reloaded (Greyish Black, 64 GB)\n",
      "Infinix Hot 10 Play (7° Purple, 64 GB)\n",
      "Infinix Hot 10 Play (Aegean Blue, 64 GB)\n",
      "Infinix Hot 10 Play (Morandi Green, 64 GB)\n",
      "Infinix Hot 10 Play (Obsidian Black, 64 GB)\n",
      "POCO C3 (Matte Black, 64 GB)\n",
      "Infinix Hot 11 (Emerald Green, 64 GB)\n",
      "Infinix Hot 11 (Silver Wave, 64 GB)\n",
      "POCO C3 (Lime Green, 64 GB)\n",
      "POCO M2 Reloaded (Mostly Blue, 64 GB)\n",
      "Infinix Hot 10S (7° Purple, 64 GB)\n",
      "Infinix Hot 10S (Morandi Green, 64 GB)\n",
      "vivo Y12s (Glacier Blue, 32 GB)\n",
      "vivo Y12s (Phantom Black, 32 GB)\n",
      "OPPO A12 (Flowing Silver, 64 GB)\n",
      "OPPO A12 (Blue, 64 GB)\n",
      "OPPO A12 (Deep Blue, 64 GB)\n",
      "Redmi 9 (Sporty Orange, 64 GB)\n",
      "\n",
      "page_id 1\n"
     ]
    }
   ],
   "source": [
    "soup = BeautifulSoup(res,'html.parser')\n",
    "quotes = soup.find_all('div',class_='_4rR01T')\n",
    "#print(quotes.text)\n",
    "for phone in quotes:\n",
    "    print(phone.text)\n",
    "\n",
    "print()\n",
    "print('page_id',i)"
   ]
  },
  {
   "cell_type": "code",
   "execution_count": 11,
   "id": "68f533e1",
   "metadata": {},
   "outputs": [
    {
     "name": "stdout",
     "output_type": "stream",
     "text": [
      "4.44,753 Ratings & 218 Reviews\n",
      "4.44,753 Ratings & 218 Reviews\n",
      "4.41,22,329 Ratings & 5,956 Reviews\n",
      "4.41,22,329 Ratings & 5,956 Reviews\n",
      "4.51,72,229 Ratings & 6,147 Reviews\n",
      "4.51,72,229 Ratings & 6,147 Reviews\n",
      "4.355,210 Ratings & 3,792 Reviews\n",
      "4.31,33,783 Ratings & 9,409 Reviews\n",
      "4.31,33,783 Ratings & 9,409 Reviews\n",
      "4.31,33,783 Ratings & 9,409 Reviews\n",
      "4.31,33,783 Ratings & 9,409 Reviews\n",
      "4.32,84,243 Ratings & 17,392 Reviews\n",
      "4.45,738 Ratings & 437 Reviews\n",
      "4.45,738 Ratings & 437 Reviews\n",
      "4.32,84,243 Ratings & 17,392 Reviews\n",
      "4.355,210 Ratings & 3,792 Reviews\n",
      "4.360,428 Ratings & 5,155 Reviews\n",
      "4.360,428 Ratings & 5,155 Reviews\n",
      "4.314,281 Ratings & 1,019 Reviews\n",
      "4.314,281 Ratings & 1,019 Reviews\n",
      "4.554,740 Ratings & 2,378 Reviews\n",
      "4.554,740 Ratings & 2,378 Reviews\n",
      "4.554,740 Ratings & 2,378 Reviews\n",
      "4.223,026 Ratings & 1,330 Reviews\n"
     ]
    }
   ],
   "source": [
    "for i in range(1,25):\n",
    "    \n",
    " quotes = soup.find_all('div',class_='gUuXy-')\n",
    "#print(quotes.text)\n",
    "for phone in quotes:\n",
    " print(phone.text)"
   ]
  },
  {
   "cell_type": "code",
   "execution_count": 12,
   "id": "a5f6f107",
   "metadata": {},
   "outputs": [
    {
     "name": "stdout",
     "output_type": "stream",
     "text": [
      "4.44,753 Ratings & 218 Reviews\n",
      "4.44,753 Ratings & 218 Reviews\n",
      "4.41,22,329 Ratings & 5,956 Reviews\n",
      "4.41,22,329 Ratings & 5,956 Reviews\n",
      "4.51,72,229 Ratings & 6,147 Reviews\n",
      "4.51,72,229 Ratings & 6,147 Reviews\n",
      "4.355,210 Ratings & 3,792 Reviews\n",
      "4.31,33,783 Ratings & 9,409 Reviews\n",
      "4.31,33,783 Ratings & 9,409 Reviews\n",
      "4.31,33,783 Ratings & 9,409 Reviews\n",
      "4.31,33,783 Ratings & 9,409 Reviews\n",
      "4.32,84,243 Ratings & 17,392 Reviews\n",
      "4.45,738 Ratings & 437 Reviews\n",
      "4.45,738 Ratings & 437 Reviews\n",
      "4.32,84,243 Ratings & 17,392 Reviews\n",
      "4.355,210 Ratings & 3,792 Reviews\n",
      "4.360,428 Ratings & 5,155 Reviews\n",
      "4.360,428 Ratings & 5,155 Reviews\n",
      "4.314,281 Ratings & 1,019 Reviews\n",
      "4.314,281 Ratings & 1,019 Reviews\n",
      "4.554,740 Ratings & 2,378 Reviews\n",
      "4.554,740 Ratings & 2,378 Reviews\n",
      "4.554,740 Ratings & 2,378 Reviews\n",
      "4.223,026 Ratings & 1,330 Reviews\n"
     ]
    }
   ],
   "source": [
    "for i in range(1,25):\n",
    "    quotes = soup.find_all('div',class_='gUuXy-')\n",
    "#print(quotes.text)\n",
    "for phone in quotes:\n",
    "    print(phone.text)"
   ]
  },
  {
   "cell_type": "code",
   "execution_count": null,
   "id": "aa1a5f02",
   "metadata": {},
   "outputs": [],
   "source": []
  }
 ],
 "metadata": {
  "kernelspec": {
   "display_name": "Python 3",
   "language": "python",
   "name": "python3"
  },
  "language_info": {
   "codemirror_mode": {
    "name": "ipython",
    "version": 3
   },
   "file_extension": ".py",
   "mimetype": "text/x-python",
   "name": "python",
   "nbconvert_exporter": "python",
   "pygments_lexer": "ipython3",
   "version": "3.8.8"
  }
 },
 "nbformat": 4,
 "nbformat_minor": 5
}
